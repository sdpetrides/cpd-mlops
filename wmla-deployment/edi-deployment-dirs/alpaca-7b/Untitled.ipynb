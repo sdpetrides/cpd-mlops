{
 "cells": [
  {
   "cell_type": "code",
   "execution_count": 9,
   "id": "2179ad7a-4ad3-4221-af2b-abf949d83126",
   "metadata": {
    "id": "ab93c52c-78e0-4737-a22d-de855eafee4f",
    "tags": []
   },
   "outputs": [],
   "source": [
    "import os\n",
    "\n",
    "DEPLOYMENT_URL = \"https://wmla-inference-cpd.apps.cpd.mskcc.org/dlim/v1/inference/alpaca-7b\"\n",
    "headers = {'Authorization': f'Bearer {os.getenv(\"USER_ACCESS_TOKEN\")}'}"
   ]
  },
  {
   "cell_type": "code",
   "execution_count": 10,
   "id": "5881b15c-7c60-436c-9bca-10bdf41b37de",
   "metadata": {
    "id": "5881b15c-7c60-436c-9bca-10bdf41b37de",
    "tags": []
   },
   "outputs": [
    {
     "name": "stdout",
     "output_type": "stream",
     "text": [
      "text\n",
      "<s>Below is an instruction that describes a task. Write a response that appropriately completes the request.\n",
      "\n",
      "### Instruction:\n",
      "What are the signs of pneumonia on a chest X-ray?\n",
      "\n",
      "### Response:\n",
      "Pneumonia is an infection of the lungs that can cause inflammation and fluid buildup in the air sacs of the lungs. The signs of pneumonia on a chest X-ray can vary depending on the type and severity of the infection. Some common signs of pneumonia on a chest X-ray include:\n",
      "\n",
      "1. Consolidation: This refers to areas of the lungs that appear white on the X-ray, indicating the presence of fluid or pus.\n",
      "\n",
      "2. Pleural Effusion: This is the accumulation of fluid between the\n",
      "\n"
     ]
    }
   ],
   "source": [
    "import json\n",
    "import requests\n",
    "import urllib3\n",
    "\n",
    "urllib3.disable_warnings(urllib3.exceptions.InsecureRequestWarning)\n",
    "\n",
    "data = {\n",
    "    \"instruction\": \"What are the signs of pneumonia on a chest X-ray?\",\n",
    "    \"temperature\": 0.1,\n",
    "    \"top_p\": 0.75,\n",
    "    \"top_k\": 40,\n",
    "    \"num_beams\": 4,\n",
    "    \"max_new_tokens\": 128\n",
    "}\n",
    "\n",
    "r = requests.post(\n",
    "    DEPLOYMENT_URL,\n",
    "    headers=headers,\n",
    "    json=data,\n",
    "    verify=False\n",
    ")\n",
    "\n",
    "if r.status_code == 200:\n",
    "    result = json.loads(r.text)\n",
    "    for k, v in result.items():\n",
    "        print(k)\n",
    "        print(v)\n",
    "        print()\n",
    "else:\n",
    "    print('Error with request', r.status_code)"
   ]
  },
  {
   "cell_type": "code",
   "execution_count": null,
   "id": "de06156e-3bbc-418a-9d6c-99d24114c3f2",
   "metadata": {
    "id": "de06156e-3bbc-418a-9d6c-99d24114c3f2",
    "tags": []
   },
   "outputs": [],
   "source": [
    "0"
   ]
  },
  {
   "cell_type": "code",
   "execution_count": null,
   "id": "0b6e24a3-2539-4f6f-87f4-2a6bb800d3af",
   "metadata": {
    "id": "0b6e24a3-2539-4f6f-87f4-2a6bb800d3af",
    "tags": []
   },
   "outputs": [],
   "source": [
    "import torch\n",
    "\n",
    "torch.cuda.device_count()"
   ]
  },
  {
   "cell_type": "code",
   "execution_count": null,
   "id": "a53105b6-1915-4cd5-beb0-236ed0b15919",
   "metadata": {
    "id": "a53105b6-1915-4cd5-beb0-236ed0b15919",
    "tags": []
   },
   "outputs": [],
   "source": [
    "import logging\n",
    "\n",
    "logging.basicConfig(\n",
    "    level=logging.INFO,\n",
    "    format=\"%(asctime)s [%(levelname)s] %(message)s\",\n",
    "    handlers=[\n",
    "        logging.FileHandler(\"/mnts/alpaca-logging-1/out-test\"),\n",
    "        logging.StreamHandler(),\n",
    "    ]\n",
    ")\n",
    "\n",
    "logging.info(\"Hello World\")"
   ]
  },
  {
   "cell_type": "code",
   "execution_count": null,
   "id": "94512199-37bd-4a86-8783-9a863007fdfd",
   "metadata": {
    "id": "94512199-37bd-4a86-8783-9a863007fdfd",
    "tags": []
   },
   "outputs": [],
   "source": [
    "import os.path as osp\n",
    "\n",
    "osp.exists(\"/mnts/alpaca-logging-1\")"
   ]
  },
  {
   "cell_type": "code",
   "execution_count": null,
   "id": "643f44d3-d9c3-4461-b01a-39cc43edb1f0",
   "metadata": {
    "id": "643f44d3-d9c3-4461-b01a-39cc43edb1f0"
   },
   "outputs": [],
   "source": [
    "input_data = {}\n",
    "instruction = input_data.get(\"instruction\", \"\")\n",
    "user_input = input_data.get(\"input\", \"\")\n",
    "\n",
    "temperature = input_data.get(\"temperature\", 0.1)\n",
    "top_p = input_data.get(\"top_p\", 0.75)\n",
    "top_k = input_data.get(\"top_k\", 40)\n",
    "num_beams = input_data.get(\"num_beams\", 4)\n",
    "max_new_tokens = input_data.get(\"max_new_tokens\", 128)\n",
    "\n",
    "# Generate input tokens\n",
    "prompt = self.prompter.generate_prompt(\n",
    "    instruction=instruction, input=user_input\n",
    ")\n",
    "inputs = self.tokenizer(prompt, return_tensors=\"pt\")\n",
    "input_ids = inputs[\"input_ids\"].to(self.device)\n",
    "\n",
    "# Set params\n",
    "generation_config = GenerationConfig(\n",
    "    temperature=temperature,\n",
    "    top_p=top_p,\n",
    "    top_k=top_k,\n",
    "    num_beams=num_beams,\n",
    ")\n",
    "\n",
    "with torch.no_grad():\n",
    "    generation_output = self.model.generate(\n",
    "        input_ids=input_ids,\n",
    "        generation_config=generation_config,\n",
    "        return_dict_in_generate=True,\n",
    "        output_scores=True,\n",
    "        max_new_tokens=max_new_tokens,\n",
    "    )\n",
    "\n",
    "s = generation_output.sequences[0]\n",
    "output = self.tokenizer.decode(s)\n",
    "output_data[\"text\"] = output"
   ]
  },
  {
   "cell_type": "code",
   "execution_count": 2,
   "id": "b2f042c2-015f-44c9-a70c-191ae05b9ef2",
   "metadata": {
    "id": "b2f042c2-015f-44c9-a70c-191ae05b9ef2",
    "tags": []
   },
   "outputs": [],
   "source": [
    "input_data = {}\n",
    "\n",
    "instruction = input_data.get(\"instruction\", \"\")\n",
    "user_input = input_data.get(\"input\", \"\")\n",
    "temperature = input_data.get(\"temperature\", 0.1)\n",
    "top_p = input_data.get(\"top_p\", 0.75)\n",
    "top_k = input_data.get(\"top_k\", 40)\n",
    "num_beams = input_data.get(\"num_beams\", 4)\n",
    "max_new_tokens = input_data.get(\"max_new_tokens\", 128)"
   ]
  },
  {
   "cell_type": "code",
   "execution_count": null,
   "id": "8b1036d2-b84b-4e0e-8f69-9f934c958ebf",
   "metadata": {
    "id": "8b1036d2-b84b-4e0e-8f69-9f934c958ebf"
   },
   "outputs": [],
   "source": []
  }
 ],
 "metadata": {
  "kernelspec": {
   "display_name": "Python 3.10 + GPU",
   "language": "python",
   "name": "python3"
  },
  "language_info": {
   "codemirror_mode": {
    "name": "ipython",
    "version": 3
   },
   "file_extension": ".py",
   "mimetype": "text/x-python",
   "name": "python",
   "nbconvert_exporter": "python",
   "pygments_lexer": "ipython3",
   "version": "3.10.6"
  }
 },
 "nbformat": 4,
 "nbformat_minor": 5
}
