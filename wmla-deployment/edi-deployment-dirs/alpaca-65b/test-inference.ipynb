{
 "cells": [
  {
   "cell_type": "code",
   "execution_count": 1,
   "id": "3a65d70b-08e1-4d86-ba3c-a19dab131aa0",
   "metadata": {
    "id": "58697eb6-248b-447a-a565-3971f9b91607",
    "tags": []
   },
   "outputs": [],
   "source": [
    "import os\n",
    "\n",
    "DEPLOY_NAME = \"alpaca-7b\"\n",
    "DEPLOYMENT_URL = f'https://wmla-inference-cpd.apps.cpd.mskcc.org/dlim/v1/inference/{DEPLOY_NAME}'\n",
    "headers = {'Authorization': f'Bearer {os.getenv(\"USER_ACCESS_TOKEN\")}'}"
   ]
  },
  {
   "cell_type": "code",
   "execution_count": 2,
   "id": "57247e65-0499-4cef-9672-d1c5ba24ad1f",
   "metadata": {
    "id": "57247e65-0499-4cef-9672-d1c5ba24ad1f",
    "tags": []
   },
   "outputs": [
    {
     "name": "stderr",
     "output_type": "stream",
     "text": [
      "/opt/conda/envs/Python-3.10-CUDA/lib/python3.10/site-packages/urllib3/connectionpool.py:1045: InsecureRequestWarning: Unverified HTTPS request is being made to host 'wmla-inference-cpd.apps.cpd.mskcc.org'. Adding certificate verification is strongly advised. See: https://urllib3.readthedocs.io/en/1.26.x/advanced-usage.html#ssl-warnings\n",
      "  warnings.warn(\n"
     ]
    },
    {
     "name": "stdout",
     "output_type": "stream",
     "text": [
      "status\n",
      "Task have finished, but no output returned.\n",
      "\n"
     ]
    }
   ],
   "source": [
    "import json\n",
    "import requests\n",
    "\n",
    "r = requests.post(\n",
    "    DEPLOYMENT_URL,\n",
    "    headers=headers,\n",
    "    json = {\"input\": \"some input\"},\n",
    "    verify = False\n",
    ")\n",
    "\n",
    "if r.status_code == 200:\n",
    "    result = json.loads(r.text)\n",
    "    for k, v in result.items():\n",
    "        print(k)\n",
    "        print(v)\n",
    "        print()\n",
    "else:\n",
    "    print('Error with request', r.status_code)"
   ]
  },
  {
   "cell_type": "code",
   "execution_count": null,
   "id": "5c0340cf-c2fb-49d3-bb2a-146b7f9380e2",
   "metadata": {
    "id": "5c0340cf-c2fb-49d3-bb2a-146b7f9380e2"
   },
   "outputs": [],
   "source": []
  }
 ],
 "metadata": {
  "kernelspec": {
   "display_name": "Python 3.10 + GPU",
   "language": "python",
   "name": "python3"
  },
  "language_info": {
   "codemirror_mode": {
    "name": "ipython",
    "version": 3
   },
   "file_extension": ".py",
   "mimetype": "text/x-python",
   "name": "python",
   "nbconvert_exporter": "python",
   "pygments_lexer": "ipython3",
   "version": "3.10.6"
  }
 },
 "nbformat": 4,
 "nbformat_minor": 5
}
