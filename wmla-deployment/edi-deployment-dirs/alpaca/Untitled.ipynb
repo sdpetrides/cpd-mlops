{
 "cells": [
  {
   "cell_type": "code",
   "execution_count": 13,
   "id": "2179ad7a-4ad3-4221-af2b-abf949d83126",
   "metadata": {
    "id": "ab93c52c-78e0-4737-a22d-de855eafee4f",
    "tags": []
   },
   "outputs": [],
   "source": [
    "import os\n",
    "\n",
    "DEPLOYMENT_URL = \"https://wmla-inference-cpd.apps.cpd.mskcc.org/dlim/v1/inference/alpaca-7b\"\n",
    "headers = {'Authorization': f'Bearer {os.getenv(\"USER_ACCESS_TOKEN\")}'}"
   ]
  },
  {
   "cell_type": "code",
   "execution_count": 17,
   "id": "5881b15c-7c60-436c-9bca-10bdf41b37de",
   "metadata": {
    "id": "5881b15c-7c60-436c-9bca-10bdf41b37de",
    "tags": []
   },
   "outputs": [
    {
     "name": "stdout",
     "output_type": "stream",
     "text": [
      "Error with request 504\n"
     ]
    }
   ],
   "source": [
    "import json\n",
    "import requests\n",
    "import urllib3\n",
    "\n",
    "urllib3.disable_warnings(urllib3.exceptions.InsecureRequestWarning)\n",
    "\n",
    "data = {\n",
    "    \"instruction\": \"What are the signs of pneumonia on a chest X-ray?\",\n",
    "    \"temperature\": 0.1,\n",
    "    \"top_p\": 0.75,\n",
    "    \"top_k\": 40,\n",
    "    \"num_beams\": 4,\n",
    "    \"max_new_tokens\": 128\n",
    "}\n",
    "\n",
    "r = requests.post(\n",
    "    DEPLOYMENT_URL,\n",
    "    headers=headers,\n",
    "    json=data,\n",
    "    verify=False\n",
    ")\n",
    "\n",
    "if r.status_code == 200:\n",
    "    result = json.loads(r.text)\n",
    "    for k, v in result.items():\n",
    "        print(k)\n",
    "        print(v)\n",
    "        print()\n",
    "else:\n",
    "    print('Error with request', r.status_code)"
   ]
  },
  {
   "cell_type": "code",
   "execution_count": 18,
   "id": "de06156e-3bbc-418a-9d6c-99d24114c3f2",
   "metadata": {
    "id": "de06156e-3bbc-418a-9d6c-99d24114c3f2",
    "tags": []
   },
   "outputs": [
    {
     "data": {
      "text/plain": [
       "0"
      ]
     },
     "execution_count": 18,
     "metadata": {},
     "output_type": "execute_result"
    }
   ],
   "source": [
    "0"
   ]
  },
  {
   "cell_type": "code",
   "execution_count": 13,
   "id": "0b6e24a3-2539-4f6f-87f4-2a6bb800d3af",
   "metadata": {
    "id": "0b6e24a3-2539-4f6f-87f4-2a6bb800d3af",
    "tags": []
   },
   "outputs": [
    {
     "data": {
      "text/plain": [
       "1"
      ]
     },
     "execution_count": 13,
     "metadata": {},
     "output_type": "execute_result"
    }
   ],
   "source": [
    "import torch\n",
    "\n",
    "torch.cuda.device_count()"
   ]
  },
  {
   "cell_type": "code",
   "execution_count": 17,
   "id": "a53105b6-1915-4cd5-beb0-236ed0b15919",
   "metadata": {
    "id": "a53105b6-1915-4cd5-beb0-236ed0b15919",
    "tags": []
   },
   "outputs": [
    {
     "name": "stderr",
     "output_type": "stream",
     "text": [
      "2023-07-12 16:20:17,345 [INFO] Hello World\n"
     ]
    }
   ],
   "source": [
    "import logging\n",
    "\n",
    "logging.basicConfig(\n",
    "    level=logging.INFO,\n",
    "    format=\"%(asctime)s [%(levelname)s] %(message)s\",\n",
    "    handlers=[\n",
    "        logging.FileHandler(\"/mnts/alpaca-logging-1/out-test\"),\n",
    "        logging.StreamHandler(),\n",
    "    ]\n",
    ")\n",
    "\n",
    "logging.info(\"Hello World\")"
   ]
  },
  {
   "cell_type": "code",
   "execution_count": 16,
   "id": "94512199-37bd-4a86-8783-9a863007fdfd",
   "metadata": {
    "id": "94512199-37bd-4a86-8783-9a863007fdfd",
    "tags": []
   },
   "outputs": [
    {
     "data": {
      "text/plain": [
       "True"
      ]
     },
     "execution_count": 16,
     "metadata": {},
     "output_type": "execute_result"
    }
   ],
   "source": [
    "import os.path as osp\n",
    "\n",
    "osp.exists(\"/mnts/alpaca-logging-1\")"
   ]
  },
  {
   "cell_type": "code",
   "execution_count": null,
   "id": "643f44d3-d9c3-4461-b01a-39cc43edb1f0",
   "metadata": {
    "id": "643f44d3-d9c3-4461-b01a-39cc43edb1f0"
   },
   "outputs": [],
   "source": []
  }
 ],
 "metadata": {
  "kernelspec": {
   "display_name": "Python 3.10 + GPU",
   "language": "python",
   "name": "python3"
  },
  "language_info": {
   "codemirror_mode": {
    "name": "ipython",
    "version": 3
   },
   "file_extension": ".py",
   "mimetype": "text/x-python",
   "name": "python",
   "nbconvert_exporter": "python",
   "pygments_lexer": "ipython3",
   "version": "3.10.6"
  }
 },
 "nbformat": 4,
 "nbformat_minor": 5
}
